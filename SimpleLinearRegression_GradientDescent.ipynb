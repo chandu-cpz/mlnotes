{
 "cells": [
  {
   "cell_type": "code",
   "execution_count": 1,
   "metadata": {},
   "outputs": [],
   "source": [
    "import numpy as np \n",
    "import pandas as pd \n",
    "import matplotlib.pyplot as plt "
   ]
  },
  {
   "cell_type": "code",
   "execution_count": 2,
   "metadata": {},
   "outputs": [
    {
     "data": {
      "text/html": [
       "<div>\n",
       "<style scoped>\n",
       "    .dataframe tbody tr th:only-of-type {\n",
       "        vertical-align: middle;\n",
       "    }\n",
       "\n",
       "    .dataframe tbody tr th {\n",
       "        vertical-align: top;\n",
       "    }\n",
       "\n",
       "    .dataframe thead th {\n",
       "        text-align: right;\n",
       "    }\n",
       "</style>\n",
       "<table border=\"1\" class=\"dataframe\">\n",
       "  <thead>\n",
       "    <tr style=\"text-align: right;\">\n",
       "      <th></th>\n",
       "      <th>TV</th>\n",
       "      <th>Sales</th>\n",
       "    </tr>\n",
       "  </thead>\n",
       "  <tbody>\n",
       "    <tr>\n",
       "      <th>0</th>\n",
       "      <td>230.1</td>\n",
       "      <td>22.1</td>\n",
       "    </tr>\n",
       "    <tr>\n",
       "      <th>1</th>\n",
       "      <td>44.5</td>\n",
       "      <td>10.4</td>\n",
       "    </tr>\n",
       "    <tr>\n",
       "      <th>2</th>\n",
       "      <td>17.2</td>\n",
       "      <td>9.3</td>\n",
       "    </tr>\n",
       "    <tr>\n",
       "      <th>3</th>\n",
       "      <td>151.5</td>\n",
       "      <td>18.5</td>\n",
       "    </tr>\n",
       "    <tr>\n",
       "      <th>4</th>\n",
       "      <td>180.8</td>\n",
       "      <td>12.9</td>\n",
       "    </tr>\n",
       "  </tbody>\n",
       "</table>\n",
       "</div>"
      ],
      "text/plain": [
       "      TV  Sales\n",
       "0  230.1   22.1\n",
       "1   44.5   10.4\n",
       "2   17.2    9.3\n",
       "3  151.5   18.5\n",
       "4  180.8   12.9"
      ]
     },
     "execution_count": 2,
     "metadata": {},
     "output_type": "execute_result"
    }
   ],
   "source": [
    "df = pd.read_csv(\"datasets/tv_marketing/tvmarketing.csv\")\n",
    "df.head()"
   ]
  },
  {
   "cell_type": "code",
   "execution_count": 3,
   "metadata": {},
   "outputs": [],
   "source": [
    "X = np.array(df[\"TV\"],dtype=np.float64)\n",
    "y = np.array(df[\"Sales\"],dtype=np.float64)"
   ]
  },
  {
   "cell_type": "code",
   "execution_count": 4,
   "metadata": {},
   "outputs": [],
   "source": [
    "from sklearn.model_selection import train_test_split\n",
    "X_train, X_test, y_train, y_test = train_test_split(X, y, random_state=42, train_size=0.75)"
   ]
  },
  {
   "cell_type": "code",
   "execution_count": 5,
   "metadata": {},
   "outputs": [],
   "source": [
    "def gradient_descent(x, y, m, c, alpha, num_iters):\n",
    "    n = len(y)\n",
    "    mse_history = np.zeros(num_iters)\n",
    "    \n",
    "    for i in range(num_iters):\n",
    "        y_pred = m*x + c \n",
    "        mse = np.sum((y - y_pred)**2) / n\n",
    "        dm = -(2/n)*np.sum(x*(y - y_pred)) \n",
    "        dc = -(2/n)*np.sum(y - y_pred)\n",
    "        m = m - alpha*dm  \n",
    "        c = c - alpha*dc\n",
    "        \n",
    "        mse_history[i] = mse\n",
    "        \n",
    "    return m, c, mse_history"
   ]
  },
  {
   "cell_type": "code",
   "execution_count": 6,
   "metadata": {},
   "outputs": [],
   "source": [
    "m, c, mse_history = gradient_descent(X_train, y_train,0,0, 0.0001, 100)"
   ]
  },
  {
   "cell_type": "code",
   "execution_count": 7,
   "metadata": {},
   "outputs": [
    {
     "name": "stdout",
     "output_type": "stream",
     "text": [
      "-6.721431959747059e+69 -3.360956558080472e+67\n"
     ]
    }
   ],
   "source": [
    "print(m,c)"
   ]
  },
  {
   "cell_type": "code",
   "execution_count": 8,
   "metadata": {},
   "outputs": [
    {
     "data": {
      "text/plain": [
       "array([2.31403800e+002, 5.48408690e+003, 1.43076909e+005, 3.74728841e+006,\n",
       "       9.81587576e+007, 2.57124490e+009, 6.73531524e+010, 1.76429992e+012,\n",
       "       4.62154198e+013, 1.21060201e+015, 3.17114337e+016, 8.30673518e+017,\n",
       "       2.17592967e+019, 5.69979638e+020, 1.49304820e+022, 3.91100451e+023,\n",
       "       1.02447840e+025, 2.68359696e+026, 7.02961888e+027, 1.84139207e+029,\n",
       "       4.82348303e+030, 1.26349999e+032, 3.30970839e+033, 8.66970297e+034,\n",
       "       2.27100822e+036, 5.94885240e+037, 1.55828784e+039, 4.08189820e+040,\n",
       "       1.06924359e+042, 2.80085834e+043, 7.33678229e+044, 1.92185280e+046,\n",
       "       5.03424802e+047, 1.31870938e+049, 3.45432808e+050, 9.04853084e+051,\n",
       "       2.37024129e+053, 6.20879108e+054, 1.62637816e+056, 4.26025919e+057,\n",
       "       1.11596483e+059, 2.92324353e+060, 7.65736740e+061, 2.00582931e+063,\n",
       "       5.25422251e+064, 1.37633118e+066, 3.60526702e+067, 9.44391183e+068,\n",
       "       2.47381040e+070, 6.48008793e+071, 1.69744373e+073, 4.44641377e+074,\n",
       "       1.16472759e+076, 3.05097641e+077, 7.99196067e+078, 2.09347522e+080,\n",
       "       5.48380892e+081, 1.43647080e+083, 3.76280133e+084, 9.85656923e+085,\n",
       "       2.58190503e+087, 6.76323927e+088, 1.77161456e+090, 4.64070249e+091,\n",
       "       1.21562106e+093, 3.18429066e+094, 8.34117419e+095, 2.18495088e+097,\n",
       "       5.72342724e+098, 1.49923825e+100, 3.92721919e+101, 1.02872579e+103,\n",
       "       2.69472292e+104, 7.05876307e+105, 1.84902632e+107, 4.84348077e+108,\n",
       "       1.26873835e+110, 3.32343015e+111, 8.70564680e+112, 2.28042362e+114,\n",
       "       5.97351583e+115, 1.56474837e+117, 4.09882139e+118, 1.07367659e+120,\n",
       "       2.81247046e+121, 7.36719996e+122, 1.92982063e+124, 5.05511958e+125,\n",
       "       1.32417664e+127, 3.46864943e+128, 9.08604527e+129, 2.38006810e+131,\n",
       "       6.23453219e+132, 1.63312098e+134, 4.27792186e+135, 1.12059153e+137,\n",
       "       2.93536305e+138, 7.68911418e+139, 2.01414530e+141, 5.27600606e+142])"
      ]
     },
     "execution_count": 8,
     "metadata": {},
     "output_type": "execute_result"
    }
   ],
   "source": [
    "mse_history"
   ]
  },
  {
   "cell_type": "code",
   "execution_count": null,
   "metadata": {},
   "outputs": [],
   "source": []
  }
 ],
 "metadata": {
  "kernelspec": {
   "display_name": "ds",
   "language": "python",
   "name": "python3"
  },
  "language_info": {
   "codemirror_mode": {
    "name": "ipython",
    "version": 3
   },
   "file_extension": ".py",
   "mimetype": "text/x-python",
   "name": "python",
   "nbconvert_exporter": "python",
   "pygments_lexer": "ipython3",
   "version": "3.11.5"
  }
 },
 "nbformat": 4,
 "nbformat_minor": 2
}
